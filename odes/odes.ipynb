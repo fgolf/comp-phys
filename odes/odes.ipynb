{
 "cells": [
  {
   "cell_type": "markdown",
   "metadata": {},
   "source": [
    "Here we'll explore some basic examples of obtaining a numerical solutions to an ODE.  We'll use the scipy.integrate.solve_ivp to do this.  Let's look first at an example of exponential decay, e.g. $\\frac{dy}{dt} = -y$.  To start, we'll need to write a function representing the right-side of this *differential equation*."
   ]
  },
  {
   "cell_type": "code",
   "execution_count": null,
   "metadata": {},
   "outputs": [],
   "source": [
    "from scipy.integrate import solve_ivp\n",
    "\n",
    "def exponential_decay(t,y,alpha=1):\n",
    "    return -1*alpha*y\n",
    "\n",
    "time_interval = (0,10)\n",
    "initial_conditions = [1]\n",
    "sol = solve_ivp(exponential_decay,time_interval,initial_conditions)\n",
    "print(sol)"
   ]
  },
  {
   "cell_type": "markdown",
   "metadata": {},
   "source": [
    "Let's plot the values return by the numerical solver and compare against the exact solution, $y(t) = e^{-\\alpha t}$."
   ]
  },
  {
   "cell_type": "code",
   "execution_count": null,
   "metadata": {},
   "outputs": [],
   "source": [
    "import numpy as np\n",
    "%matplotlib inline\n",
    "import matplotlib.pyplot as plt\n",
    "\n",
    "def exact(t,alpha=1,y0=1):\n",
    "    return y0*np.exp(-alpha*t)\n",
    "\n",
    "times_from_solver = sol.t\n",
    "y_from_solver = sol.y[0]\n",
    "\n",
    "times = np.linspace(0,10,101)\n",
    "yvals = exact(times)\n",
    "\n",
    "fig,ax = plt.subplots()\n",
    "\n",
    "ax.plot(times_from_solver,y_from_solver,'o')\n",
    "ax.plot(times,yvals,'r-')\n",
    "ax.set_xlabel('time')\n",
    "ax.set_ylabel('fraction remaining')\n",
    "ax.set_title('Solution to $\\dot{y} = -y$')\n",
    "plt.show()"
   ]
  },
  {
   "cell_type": "markdown",
   "metadata": {},
   "source": [
    "Now let's consider the case of a simple harmonic oscillator, i.e. $V(x) = \\frac{1}{2}kx^2$.  This could be, for example, a spring with force constant $k$.  The motion of a test mass $m$ attached to its end is described by $\\frac{d^2 x}{dt^2} = -\\omega^2 x$, where $\\omega^2 = \\frac{k}{m}$."
   ]
  },
  {
   "cell_type": "code",
   "execution_count": null,
   "metadata": {},
   "outputs": [],
   "source": [
    "def sho(t,x,omega2=1):\n",
    "    return x[1], -1*omega2*x[0]\n",
    "\n",
    "time_interval = (0,10)\n",
    "initial_conditions = [1,0]\n",
    "sol = solve_ivp(sho,time_interval,initial_conditions)\n",
    "print(sol)"
   ]
  },
  {
   "cell_type": "code",
   "execution_count": null,
   "metadata": {},
   "outputs": [],
   "source": [
    "times_from_solver = sol.t\n",
    "x_from_solver = sol.y[0]\n",
    "v_from_solver = sol.y[1]\n",
    "\n",
    "def sho_exact_x(t,omega2=1):\n",
    "    return np.cos(np.sqrt(omega2)*t)\n",
    "\n",
    "def sho_exact_v(t,omega2=1):\n",
    "    return -np.sqrt(omega2)*np.sin(np.sqrt(omega2)*t)\n",
    "\n",
    "times = np.linspace(0,10,101)\n",
    "xvals = sho_exact_x(times)\n",
    "vvals = sho_exact_v(times)\n",
    "\n",
    "fig,(ax0,ax1) = plt.subplots(2,1,sharex=True)\n",
    "\n",
    "ax0.plot(times_from_solver,x_from_solver,'o')\n",
    "ax0.plot(times,xvals,'r-')\n",
    "ax0.set_xlabel('time')\n",
    "ax0.set_ylabel('x(t)')\n",
    "ax0.set_title('Solutions to $\\ddot{x} = -x$')\n",
    "\n",
    "ax1.plot(times_from_solver,v_from_solver,'o')\n",
    "ax1.plot(times,vvals,'r-')\n",
    "ax1.set_xlabel('time')\n",
    "ax1.set_ylabel('v(t)')\n",
    "\n",
    "plt.show()"
   ]
  },
  {
   "cell_type": "markdown",
   "metadata": {},
   "source": [
    "Now let's look at an anharmonic oscillator, i.e. a potential of the form $V(x;p,\\alpha,\\beta) = \\frac{\\alpha}{2} kx^2 + \\frac{\\beta}{p}\\kappa x^p, p \\neq 2$, where $\\alpha,\\beta$ are dimensionless constants of order unity.  Note that below $\\omega_1 = \\sqrt{\\frac{k}{m}}, \\omega_2 = \\sqrt{\\frac{\\kappa}{m}}$."
   ]
  },
  {
   "cell_type": "code",
   "execution_count": null,
   "metadata": {},
   "outputs": [],
   "source": [
    "def aho(t,x,p=4,omega1=1,omega2=0.5,alpha=1,beta=-1):\n",
    "    return x[1], -alpha*omega1*omega1*x[0] + beta*omega2*omega2*x[0]**(p-1)\n",
    "\n",
    "time_interval = (0,10)\n",
    "initial_conditions = [2,0]\n",
    "sol = solve_ivp(aho,time_interval,initial_conditions)\n",
    "print(sol)"
   ]
  },
  {
   "cell_type": "code",
   "execution_count": null,
   "metadata": {},
   "outputs": [],
   "source": [
    "times_from_solver = sol.t\n",
    "x_from_solver = sol.y[0]\n",
    "v_from_solver = sol.y[1]\n",
    "\n",
    "fig,(ax0,ax1) = plt.subplots(2,1,sharex=True)\n",
    "\n",
    "ax0.plot(times_from_solver,x_from_solver,'o')\n",
    "ax0.set_xlabel('time')\n",
    "ax0.set_ylabel('x(t)')\n",
    "ax0.set_title('Solutions to $\\ddot{x} = -x - x^2$')\n",
    "\n",
    "ax1.plot(times_from_solver,v_from_solver,'o')\n",
    "ax1.set_xlabel('time')\n",
    "ax1.set_ylabel('v(t)')\n",
    "\n",
    "plt.show()"
   ]
  },
  {
   "cell_type": "markdown",
   "metadata": {},
   "source": [
    "Now we'll look at a damped oscillator, e.g. $F(t,x,\\dot{x}) = -kx - c\\dot{x}$."
   ]
  },
  {
   "cell_type": "code",
   "execution_count": null,
   "metadata": {},
   "outputs": [],
   "source": [
    "def damped_oscillator(t,x,m=1.,k=1.,c=0.1):\n",
    "    return x[1], -1*(k/m)*x[0] - 2.*c*np.sqrt(k/m)*x[1]/2./np.sqrt(m*k)\n",
    "\n",
    "time_interval = (0,100)\n",
    "initial_conditions = [1,0]\n",
    "t_eval = np.linspace(0,100,1001)\n",
    "\n",
    "sol = solve_ivp(damped_oscillator,time_interval,initial_conditions,t_eval=t_eval)\n",
    "print(sol.success)"
   ]
  },
  {
   "cell_type": "code",
   "execution_count": null,
   "metadata": {},
   "outputs": [],
   "source": [
    "def damped_exact_x(t,m=1.,k=1.,c=0.1):\n",
    "    spring_constant = k/m\n",
    "    damping_constant = c/2./m\n",
    "    omega = np.sqrt(spring_constant**2 - damping_constant**2)\n",
    "    x0 = initial_conditions[0]\n",
    "    v0 = (initial_conditions[1]+damping_constant*x0)/omega\n",
    "    return (x0*np.cos(omega*t) + v0*np.sin(omega*t))*np.exp(-damping_constant*t)\n",
    "\n",
    "def damped_exact_v(t,m=1.,k=1.,c=0.1):\n",
    "    spring_constant = k/m\n",
    "    damping_constant = c/2./m\n",
    "    omega = np.sqrt(spring_constant**2 - damping_constant**2)\n",
    "    x0 = initial_conditions[0]\n",
    "    v0 = (initial_conditions[1]+damping_constant*x0)/omega\n",
    "    return (-omega*x0*np.sin(omega*t) + omega*v0*np.cos(omega*t))*np.exp(-damping_constant*t) - damping_constant*(x0*np.cos(omega*t)+v0*np.sin(omega*t))*np.exp(-damping_constant*t)\n",
    "\n",
    "times = np.linspace(0,100,1001)\n",
    "xvals = damped_exact_x(times)\n",
    "vvals = damped_exact_v(times)\n",
    "\n",
    "times_from_solver = sol.t\n",
    "x_from_solver = sol.y[0]\n",
    "v_from_solver = sol.y[1]\n",
    "\n",
    "fig,(ax0,ax1) = plt.subplots(2,1,sharex=True)\n",
    "\n",
    "ax0.plot(times_from_solver,x_from_solver,'o')\n",
    "ax0.plot(times,xvals,'r-')\n",
    "ax0.set_xlabel('time')\n",
    "ax0.set_ylabel('x(t)')\n",
    "ax0.set_title('Solutions to $\\ddot{x} = -x - 2\\dot{x}$')\n",
    "\n",
    "ax1.plot(times_from_solver,v_from_solver,'o')\n",
    "ax1.plot(times,vvals,'r-')\n",
    "ax1.set_xlabel('time')\n",
    "ax1.set_ylabel('v(t)')\n",
    "\n",
    "plt.show()"
   ]
  },
  {
   "cell_type": "markdown",
   "metadata": {},
   "source": [
    "Now let's look at a forced oscillator with forcing function $F(t,x,\\dot{x}) = F_0\\cos(\\omega_f t)$, where $F_0$ is the (constant) amplitude of the driver and $\\omega_f$ is its frequency."
   ]
  },
  {
   "cell_type": "code",
   "execution_count": null,
   "metadata": {},
   "outputs": [],
   "source": [
    "def driven_oscillator(t,x,m=1.,k=1.,f0=0.1,omegaf=1):\n",
    "    return x[1],-1*(k/m)*x[0] + f0*np.cos(omegaf*t)\n",
    "\n",
    "time_interval = (0,20)\n",
    "initial_conditions = [1,0]\n",
    "t_eval = np.linspace(0,20,201)\n",
    "\n",
    "sol = solve_ivp(driven_oscillator,time_interval,initial_conditions,t_eval=t_eval)\n",
    "print(sol.success)"
   ]
  },
  {
   "cell_type": "code",
   "execution_count": null,
   "metadata": {},
   "outputs": [],
   "source": [
    "#times = np.linspace(0,100,1001)\n",
    "#xvals = damped_exact_x(times)\n",
    "#vvals = damped_exact_v(times)\n",
    "\n",
    "times_from_solver = sol.t\n",
    "x_from_solver = sol.y[0]\n",
    "v_from_solver = sol.y[1]\n",
    "\n",
    "fig,(ax0,ax1) = plt.subplots(2,1,sharex=True)\n",
    "\n",
    "ax0.plot(times_from_solver,x_from_solver,'o')\n",
    "#ax0.plot(times,xvals,'r-')\n",
    "ax0.set_xlabel('time')\n",
    "ax0.set_ylabel('x(t)')\n",
    "ax0.set_title('Solutions to $\\ddot{x} = -x - 2\\dot{x}$')\n",
    "\n",
    "ax1.plot(times_from_solver,v_from_solver,'o')\n",
    "#ax1.plot(times,vvals,'r-')\n",
    "ax1.set_xlabel('time')\n",
    "ax1.set_ylabel('v(t)')\n",
    "\n",
    "plt.show()"
   ]
  },
  {
   "cell_type": "code",
   "execution_count": null,
   "metadata": {},
   "outputs": [],
   "source": [
    "time_interval = (0,100)\n",
    "initial_conditions = [1,0]\n",
    "t_eval = np.linspace(0,100,1001)\n",
    "\n",
    "sol = solve_ivp(driven_oscillator,time_interval,initial_conditions,t_eval=t_eval,args=(1.,1.,100,1.))\n",
    "print(sol.success)"
   ]
  },
  {
   "cell_type": "code",
   "execution_count": null,
   "metadata": {},
   "outputs": [],
   "source": [
    "times_from_solver = sol.t\n",
    "x_from_solver = sol.y[0]\n",
    "v_from_solver = sol.y[1]\n",
    "\n",
    "fig,(ax0,ax1) = plt.subplots(2,1,sharex=True)\n",
    "\n",
    "ax0.plot(times_from_solver,x_from_solver,'o')\n",
    "ax0.set_xlabel('time')\n",
    "ax0.set_ylabel('x(t)')\n",
    "ax0.set_title('Solutions to $\\ddot{x} = -x - 2\\dot{x}$')\n",
    "\n",
    "ax1.plot(times_from_solver,v_from_solver,'o')\n",
    "ax1.set_xlabel('time')\n",
    "ax1.set_ylabel('v(t)')\n",
    "\n",
    "plt.show()"
   ]
  },
  {
   "cell_type": "code",
   "execution_count": null,
   "metadata": {},
   "outputs": [],
   "source": [
    "time_interval = (0,100)\n",
    "initial_conditions = [1,0]\n",
    "t_eval = np.linspace(0,100,1001)\n",
    "\n",
    "sol = solve_ivp(driven_oscillator,time_interval,initial_conditions,t_eval=t_eval,args=(1.,1.,100,1./np.pi))\n",
    "print(sol.success)"
   ]
  },
  {
   "cell_type": "code",
   "execution_count": null,
   "metadata": {},
   "outputs": [],
   "source": [
    "times_from_solver = sol.t\n",
    "x_from_solver = sol.y[0]\n",
    "v_from_solver = sol.y[1]\n",
    "\n",
    "fig,(ax0,ax1) = plt.subplots(2,1,sharex=True)\n",
    "\n",
    "ax0.plot(times_from_solver,x_from_solver,'o')\n",
    "ax0.set_xlabel('time')\n",
    "ax0.set_ylabel('x(t)')\n",
    "ax0.set_title('Solutions to $\\ddot{x} = -x - 2\\dot{x}$')\n",
    "\n",
    "ax1.plot(times_from_solver,v_from_solver,'o')\n",
    "ax1.set_xlabel('time')\n",
    "ax1.set_ylabel('v(t)')\n",
    "\n",
    "plt.show()"
   ]
  }
 ],
 "metadata": {
  "kernelspec": {
   "display_name": "Python 3.7",
   "language": "python",
   "name": "python-3.7"
  },
  "language_info": {
   "codemirror_mode": {
    "name": "ipython",
    "version": 3
   },
   "file_extension": ".py",
   "mimetype": "text/x-python",
   "name": "python",
   "nbconvert_exporter": "python",
   "pygments_lexer": "ipython3",
   "version": "3.7.0"
  }
 },
 "nbformat": 4,
 "nbformat_minor": 4
}
