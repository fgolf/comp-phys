{
 "cells": [
  {
   "cell_type": "code",
   "execution_count": null,
   "metadata": {},
   "outputs": [],
   "source": [
    "from scipy.integrate import solve_ivp\n",
    "import numpy as np\n",
    "import matplotlib.pyplot as plt\n",
    "\n",
    "## some useful constants\n",
    "m_base = 1  ## [kg],  unit of mass is 1000 kg\n",
    "m_e = 5.972*10**24 / m_base\n",
    "m_s = 10**3 / m_base ## mass of satellite\n",
    "M = m_e + m_s\n",
    "mu = m_e*m_s/M\n",
    "r_base = 1 ## [m]\n",
    "r_e = 6356*1000 / r_base ## radius of earth\n",
    "r_s = 1.2*r_e ## radius of satellite orbit as multiple factor of earth radius\n",
    "t_base = 1 ## work in units of 100 s\n",
    "G = 6.67*10**-11 * m_base / r_base**3 / t_base**2 ## [m^3 s^2 / kg]\n",
    "\n",
    "## initial conditions\n",
    "## r[0] = r_s\n",
    "## drdt[0] = 0\n",
    "## theta[0] = 0\n",
    "## dtheta_dt[0] = G * m_e / r[0]**3\n",
    "dtheta_dt0 = -np.sqrt((G * m_e) / r_s**3)\n",
    "init_cond = [r_s,0,0,dtheta_dt0]\n",
    "text = ['r(0) = {}','v(0) = {}','theta(0) = {}','omega(0) = {}']\n",
    "for t,i in list(zip(text,init_cond)):\n",
    "    print(t.format(i))"
   ]
  },
  {
   "cell_type": "code",
   "execution_count": null,
   "metadata": {},
   "outputs": [],
   "source": [
    "## define some usual functions\n",
    "\n",
    "def angmom(r,dtheta_dt):\n",
    "    return (mu*dtheta_dt*r**2) ## angular momentum = constant\n",
    "    \n",
    "l = angmom(r_s,dtheta_dt0)\n",
    "\n",
    "def U(r):\n",
    "    return -G*M*mu/r\n",
    "\n",
    "def F(r):\n",
    "    return -G*M*mu/r/r\n",
    "\n",
    "def Ueff(r):\n",
    "    return l*l/2/mu/r/r\n",
    "\n",
    "def Feff(r):\n",
    "    return l*l/mu/r/r/r\n",
    "\n",
    "def r(t,r):\n",
    "    return r[1],(2/mu)*(Feff(r[0])+F(r[0])),r[3],-2*angmom(r[0],r[3])*r[1]/mu/r[0]**3"
   ]
  },
  {
   "cell_type": "code",
   "execution_count": null,
   "metadata": {},
   "outputs": [],
   "source": [
    "##### plot the potentials\n",
    "rvals = np.linspace(0.3*r_e,4*r_e,100) \n",
    "fig,ax = plt.subplots()\n",
    "ax.plot(rvals/r_e,U(rvals),label='Ug')\n",
    "ax.plot(rvals/r_e,Ueff(rvals),label='Ueff')\n",
    "ax.plot(rvals/r_e,U(rvals)+Ueff(rvals),label='U')\n",
    "ax.plot(rvals/r_e,np.ones(len(rvals)))\n",
    "plt.legend()\n",
    "t = ax.set_xlabel('r_e')\n",
    "umin_rindex=(U(rvals)+Ueff(rvals)).argmin()\n",
    "print('Potential minimum occurs at r = {:.2f} r_e'.format(rvals[umin_rindex]/r_e))"
   ]
  },
  {
   "cell_type": "code",
   "execution_count": null,
   "metadata": {},
   "outputs": [],
   "source": [
    "time_interval=(0,5*10**4)\n",
    "tvals = np.linspace(0.,float(time_interval[-1]),int(time_interval[-1]+1))\n",
    "sol = solve_ivp(r,time_interval,init_cond,t_eval=tvals)\n",
    "print(sol)"
   ]
  },
  {
   "cell_type": "code",
   "execution_count": null,
   "metadata": {},
   "outputs": [],
   "source": [
    "tvals = sol.t\n",
    "r_vals = sol.y[0]\n",
    "drdt_vals = sol.y[1]\n",
    "theta_vals = sol.y[2]\n",
    "dtheta_dt_vals = sol.y[3]\n",
    "\n",
    "fig,ax = plt.subplots(2,2,figsize=(14,10))\n",
    "\n",
    "ax[0,0].plot(tvals,r_vals/r_e)\n",
    "ax[0,0].set_ylim(1.1,1.3)\n",
    "ax[0,0].set_xlabel('t (s)')\n",
    "ax[0,0].set_ylabel('r in units of r_e')\n",
    "ax[0,0].set_title('satellite orbital radius vs time')\n",
    "\n",
    "ax[0,1].plot(tvals,drdt_vals)\n",
    "ax[0,1].set_ylim(-0.1,0.1)\n",
    "ax[0,1].set_xlabel('t (s)')\n",
    "ax[0,1].set_ylabel(r'$\\dot{r}$')\n",
    "ax[0,1].set_title('satellite radial velocity vs time')\n",
    "\n",
    "vals_theta = np.mod(theta_vals,2*np.pi)-np.pi\n",
    "ax[1,0].plot(tvals,vals_theta)\n",
    "ax[1,0].set_ylim(-np.pi,np.pi)\n",
    "ax[1,0].set_xlabel('t (s)')\n",
    "ax[1,0].set_ylabel(r'$\\theta$')\n",
    "ax[1,0].set_title('satellite angular position vs time')\n",
    "\n",
    "ax[1,1].plot(tvals,dtheta_dt_vals)\n",
    "ax[1,1].set_ylim(2*dtheta_dt0,-2*dtheta_dt0)\n",
    "ax[1,1].set_xlabel('t (s)')\n",
    "ax[1,1].set_ylabel(r'$\\dot{\\theta}$')\n",
    "t = ax[1,1].set_title('satellite orbital velocity vs time')"
   ]
  },
  {
   "cell_type": "code",
   "execution_count": null,
   "metadata": {},
   "outputs": [],
   "source": [
    "lt = angmom(r_vals,dtheta_dt_vals)\n",
    "fig,ax = plt.subplots()\n",
    "ax.plot(tvals,lt)\n",
    "ax.set_ylim(1.1*l,0.9*l)\n",
    "ax.set_xlabel('t (s)')\n",
    "ax.set_ylabel(r'\\ell')\n",
    "t = ax.set_title('angular momentum vs time')"
   ]
  },
  {
   "cell_type": "code",
   "execution_count": null,
   "metadata": {},
   "outputs": [],
   "source": [
    "E = 0.5*mu*drdt_vals**2 + Ueff(r_vals) + U(r_vals)\n",
    "\n",
    "fig,ax = plt.subplots()\n",
    "ax.plot(tvals,E,'b')\n",
    "ax.plot(tvals,U(r_vals),'r',label=r'$U_g$')\n",
    "ax.plot(tvals,Ueff(r_vals),'g',label=r'$U_{eff}$')\n",
    "ax.plot(tvals,U(r_vals)+Ueff(r_vals),'b',label='U(r)')\n",
    "ax.set_xlabel('t (s)')\n",
    "ax.set_ylabel('energy')\n",
    "plt.legend(loc='center right')"
   ]
  },
  {
   "cell_type": "code",
   "execution_count": null,
   "metadata": {},
   "outputs": [],
   "source": [
    "xvals = r_vals * np.cos(theta_vals)\n",
    "yvals = r_vals * np.sin(theta_vals)\n",
    "\n",
    "fig,ax = plt.subplots(figsize=(5,5))\n",
    "ax.plot(xvals/r_e,yvals/r_e)\n",
    "ax.set_xlabel('x in units of r_e')\n",
    "ax.set_ylabel('y in units of r_e')\n",
    "t = ax.set_title('satellite orbit in orbital plane')"
   ]
  }
 ],
 "metadata": {
  "kernelspec": {
   "display_name": "Python 3",
   "language": "python",
   "name": "python3"
  },
  "language_info": {
   "codemirror_mode": {
    "name": "ipython",
    "version": 3
   },
   "file_extension": ".py",
   "mimetype": "text/x-python",
   "name": "python",
   "nbconvert_exporter": "python",
   "pygments_lexer": "ipython3",
   "version": "3.7.6"
  }
 },
 "nbformat": 4,
 "nbformat_minor": 4
}
