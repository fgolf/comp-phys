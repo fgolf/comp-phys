{
 "cells": [
  {
   "cell_type": "markdown",
   "metadata": {},
   "source": [
    "In this exercise we'll take a look at some (simulated) proton-proton collision data.  The events chosen all have at least two reconstructed muons.  If you're not familiar, a muon is a heavy cousin of the electron; see [here](https://en.wikipedia.org/wiki/Muon) and [here](https://pdg.lbl.gov/2020/tables/rpp2020-sum-leptons.pdf) for some more information.  Some of these events contain (at least) a pair of real muons with opposite electric charge frmo the decay of a Z boson (see [here](https://en.wikipedia.org/wiki/W_and_Z_bosons),[here](https://pdg.lbl.gov/2020/listings/rpp2020-list-z-boson.pdf)).  Other events contain one real muon (could have positive or negative charge) from the decay of a W boson (more [here](https://pdg.lbl.gov/2020/listings/rpp2020-list-w-boson.pdf)) and one or more \"fake\" muons of either electric charge.  Here, fake means a lepton that is not from the decay of a W or Z boson.  These are typically from semi-leptonic decays of charm or bottom hadrons or decays in flight of kaons.\n",
    "\n",
    "Take a look at the data in the file *total_withouttruth_mod.csv*.  Each row contains 8 values, separated by commas, containing the following information:\n",
    "\n",
    "column 0: arbitrary index <br>\n",
    "column 1: event number <br>\n",
    "column 2: muon index in that event <br>\n",
    "column 3: x-component of muon momentum <br>\n",
    "column 4: y-component of muon momentum <br>\n",
    "column 5: z-component of muon momentum <br>\n",
    "column 6: muon energy <br>\n",
    "column 7: muon electric charge <br>\n",
    "\n",
    "Read in the data, organizing muons by event.  Plot a histogram of the invariant mass of all possible pairs of muons in each event, i.e. you may have more than one entry per event.  Play around and choose reasonable binning and comment on your observations.  Then, split the muon pairs into two samples, one where the muons have opposite electric charge and one where the muons have the same electric charge.  Plot histograms of the two populations and comment on your observations."
   ]
  },
  {
   "cell_type": "code",
   "execution_count": null,
   "metadata": {},
   "outputs": [],
   "source": [
    "import matplotlib.pyplot as plt\n",
    "%matplotlib inline\n",
    "import csv\n",
    "import numpy as np\n",
    "\n",
    "import sys\n",
    "from os import getcwd\n",
    "sys.path.append(getcwd())\n",
    "from convert_muon_data import convert_row"
   ]
  },
  {
   "cell_type": "markdown",
   "metadata": {},
   "source": [
    "**Write a LorentzVector class. Your class should at least store the energy-momentum 4-vector and provide accessors to the components. It should also define addition and subtraction operators.  Then write a Particle class that stores a LorenzVector and the charge and define an addition operator.**"
   ]
  },
  {
   "cell_type": "code",
   "execution_count": null,
   "metadata": {},
   "outputs": [],
   "source": []
  },
  {
   "cell_type": "markdown",
   "metadata": {},
   "source": [
    "**Read data from CSV file using csv.reader. Use the methods in convert_muon_data to parse each row and store the output in a list called <u>muons</u>.  The list should have one entry per event.  Each entry should be a list of Particle objects.  How many events are there?  How many muons are there?**"
   ]
  },
  {
   "cell_type": "code",
   "execution_count": null,
   "metadata": {},
   "outputs": [],
   "source": []
  },
  {
   "cell_type": "markdown",
   "metadata": {},
   "source": [
    "**Make histograms of each component of the muon momentum, the muon energy, and the number of muons per event.  You should choose a reasonable binning and range and label the axes.  You may want to increase the width of the figure using the argument figsize=(x,y).**"
   ]
  },
  {
   "cell_type": "code",
   "execution_count": null,
   "metadata": {},
   "outputs": [],
   "source": []
  },
  {
   "cell_type": "markdown",
   "metadata": {},
   "source": [
    "**Create all possible pairs of muons for each event and store them in a list called <u>dimuons</u>.  Again, the list should have one entry per event.  Each entry should be a list of numpy arrays with each numpy array representing a 4-vector [px,py,pz,E].  How many dimuon pairs are there?  Make a histogram of each component of the momentum and the energy for each dimuon pair and a histogram of the number of dimuon pairs per event.**"
   ]
  },
  {
   "cell_type": "code",
   "execution_count": null,
   "metadata": {},
   "outputs": [],
   "source": []
  },
  {
   "cell_type": "markdown",
   "metadata": {},
   "source": [
    "**Calculate the invariant mass for each dimuon pair.  Recall the relation $E^2 = p^2c^2 + m^2c^4$.  Here value are in a unit system where c=1.  Make a histogram of dimuon invariant mass.  Play around a bit to find a suitable binning.  What do you observe?**"
   ]
  },
  {
   "cell_type": "code",
   "execution_count": null,
   "metadata": {},
   "outputs": [],
   "source": []
  },
  {
   "cell_type": "markdown",
   "metadata": {},
   "source": [
    "**Do you see any peaks? If so around what mass value(s)? What are you observering?**"
   ]
  },
  {
   "cell_type": "markdown",
   "metadata": {},
   "source": [
    "**Now separate the dimuon candidates into two samples, those with the same electric charge and those with opposite electric charge. How many pairs of each type do you get? Plot the invariant mass for dimuon pairs for the two samples.  What do you see?**"
   ]
  },
  {
   "cell_type": "code",
   "execution_count": null,
   "metadata": {},
   "outputs": [],
   "source": []
  }
 ],
 "metadata": {
  "kernelspec": {
   "display_name": "Python 3.7",
   "language": "python",
   "name": "python-3.7"
  },
  "language_info": {
   "codemirror_mode": {
    "name": "ipython",
    "version": 3
   },
   "file_extension": ".py",
   "mimetype": "text/x-python",
   "name": "python",
   "nbconvert_exporter": "python",
   "pygments_lexer": "ipython3",
   "version": "3.7.0"
  }
 },
 "nbformat": 4,
 "nbformat_minor": 2
}
