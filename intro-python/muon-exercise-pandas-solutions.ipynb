{
 "cells": [
  {
   "cell_type": "markdown",
   "metadata": {},
   "source": [
    "In this exercise we'll take a look at some (simulated) proton-proton collision data.  The events chosen all have at least two reconstructed muons.  If you're not familiar, a muon is a heavy cousin of the electron; see [here](https://en.wikipedia.org/wiki/Muon) and [here](https://pdg.lbl.gov/2020/tables/rpp2020-sum-leptons.pdf) for some more information.  Some of these events contain (at least) a pair of real muons with opposite electric charge frmo the decay of a Z boson (see [here](https://en.wikipedia.org/wiki/W_and_Z_bosons),[here](https://pdg.lbl.gov/2020/listings/rpp2020-list-z-boson.pdf)).  Other events contain one real muon (could have positive or negative charge) from the decay of a W boson (more [here](https://pdg.lbl.gov/2020/listings/rpp2020-list-w-boson.pdf)) and one or more \"fake\" muons of either electric charge.  Here, fake means a lepton that is not from the decay of a W or Z boson.  These are typically from semi-leptonic decays of charm or bottom hadrons or decays in flight of kaons.\n",
    "\n",
    "Take a look at the data in the file *total_withouttruth_mod.csv*.  Each row contains 8 values, separated by commas, containing the following information:\n",
    "\n",
    "column 0: arbitrary index <br>\n",
    "column 1: event number <br>\n",
    "column 2: muon index in that event <br>\n",
    "column 3: x-component of muon momentum <br>\n",
    "column 4: y-component of muon momentum <br>\n",
    "column 5: z-component of muon momentum <br>\n",
    "column 6: muon energy <br>\n",
    "column 7: muon electric charge <br>\n",
    "\n",
    "Read in the data, organizing muons by event.  Plot a histogram of the invariant mass of all possible pairs of muons in each event, i.e. you may have more than one entry per event.  Play around and choose reasonable binning and comment on your observations.  Then, split the muon pairs into two samples, one where the muons have opposite electric charge and one where the muons have the same electric charge.  Plot histograms of the two populations and comment on your observations."
   ]
  },
  {
   "cell_type": "code",
   "execution_count": 1,
   "metadata": {},
   "outputs": [],
   "source": [
    "%matplotlib inline\n",
    "import matplotlib.pyplot as plt\n",
    "import numpy as np\n",
    "import pandas as pd\n",
    "import seaborn as sb\n",
    "from os import getcwd"
   ]
  },
  {
   "cell_type": "markdown",
   "metadata": {},
   "source": [
    "**Read data from CSV file using pandas.  How many events are there?  How many muons are there?**"
   ]
  },
  {
   "cell_type": "code",
   "execution_count": 2,
   "metadata": {},
   "outputs": [
    {
     "data": {
      "text/html": [
       "<div>\n",
       "<style scoped>\n",
       "    .dataframe tbody tr th:only-of-type {\n",
       "        vertical-align: middle;\n",
       "    }\n",
       "\n",
       "    .dataframe tbody tr th {\n",
       "        vertical-align: top;\n",
       "    }\n",
       "\n",
       "    .dataframe thead th {\n",
       "        text-align: right;\n",
       "    }\n",
       "</style>\n",
       "<table border=\"1\" class=\"dataframe\">\n",
       "  <thead>\n",
       "    <tr style=\"text-align: right;\">\n",
       "      <th></th>\n",
       "      <th>Unnamed: 0</th>\n",
       "      <th>ievent</th>\n",
       "      <th>imuon</th>\n",
       "      <th>Muon_px</th>\n",
       "      <th>Muon_py</th>\n",
       "      <th>Muon_pz</th>\n",
       "      <th>Muon_energy</th>\n",
       "      <th>Muon_charge</th>\n",
       "    </tr>\n",
       "  </thead>\n",
       "  <tbody>\n",
       "    <tr>\n",
       "      <th>0</th>\n",
       "      <td>0</td>\n",
       "      <td>0</td>\n",
       "      <td>1</td>\n",
       "      <td>19.239374</td>\n",
       "      <td>-1.831505</td>\n",
       "      <td>79.995447</td>\n",
       "      <td>82.296966</td>\n",
       "      <td>-1</td>\n",
       "    </tr>\n",
       "    <tr>\n",
       "      <th>1</th>\n",
       "      <td>1</td>\n",
       "      <td>0</td>\n",
       "      <td>0</td>\n",
       "      <td>-29.019003</td>\n",
       "      <td>8.491118</td>\n",
       "      <td>-7.981010</td>\n",
       "      <td>31.271541</td>\n",
       "      <td>1</td>\n",
       "    </tr>\n",
       "    <tr>\n",
       "      <th>2</th>\n",
       "      <td>2</td>\n",
       "      <td>1</td>\n",
       "      <td>1</td>\n",
       "      <td>-13.275436</td>\n",
       "      <td>2.828894</td>\n",
       "      <td>-5.590037</td>\n",
       "      <td>14.679902</td>\n",
       "      <td>1</td>\n",
       "    </tr>\n",
       "    <tr>\n",
       "      <th>3</th>\n",
       "      <td>3</td>\n",
       "      <td>1</td>\n",
       "      <td>0</td>\n",
       "      <td>-13.828352</td>\n",
       "      <td>2.826926</td>\n",
       "      <td>-5.669556</td>\n",
       "      <td>15.210847</td>\n",
       "      <td>1</td>\n",
       "    </tr>\n",
       "    <tr>\n",
       "      <th>4</th>\n",
       "      <td>4</td>\n",
       "      <td>2</td>\n",
       "      <td>1</td>\n",
       "      <td>-8.933261</td>\n",
       "      <td>-4.019846</td>\n",
       "      <td>-18.555020</td>\n",
       "      <td>20.982427</td>\n",
       "      <td>1</td>\n",
       "    </tr>\n",
       "  </tbody>\n",
       "</table>\n",
       "</div>"
      ],
      "text/plain": [
       "   Unnamed: 0  ievent  imuon    Muon_px   Muon_py    Muon_pz  Muon_energy  \\\n",
       "0           0       0      1  19.239374 -1.831505  79.995447    82.296966   \n",
       "1           1       0      0 -29.019003  8.491118  -7.981010    31.271541   \n",
       "2           2       1      1 -13.275436  2.828894  -5.590037    14.679902   \n",
       "3           3       1      0 -13.828352  2.826926  -5.669556    15.210847   \n",
       "4           4       2      1  -8.933261 -4.019846 -18.555020    20.982427   \n",
       "\n",
       "   Muon_charge  \n",
       "0           -1  \n",
       "1            1  \n",
       "2            1  \n",
       "3            1  \n",
       "4            1  "
      ]
     },
     "execution_count": 2,
     "metadata": {},
     "output_type": "execute_result"
    }
   ],
   "source": [
    "## read muon data from csv file into a list, with an entry (list) for each event containing np.array with the muon 4-vector components\n",
    "data = pd.read_csv(getcwd()+'/total_withouttruth_mod.csv')\n",
    "data.head()"
   ]
  },
  {
   "cell_type": "code",
   "execution_count": 3,
   "metadata": {},
   "outputs": [
    {
     "data": {
      "text/html": [
       "<div>\n",
       "<style scoped>\n",
       "    .dataframe tbody tr th:only-of-type {\n",
       "        vertical-align: middle;\n",
       "    }\n",
       "\n",
       "    .dataframe tbody tr th {\n",
       "        vertical-align: top;\n",
       "    }\n",
       "\n",
       "    .dataframe thead th {\n",
       "        text-align: right;\n",
       "    }\n",
       "</style>\n",
       "<table border=\"1\" class=\"dataframe\">\n",
       "  <thead>\n",
       "    <tr style=\"text-align: right;\">\n",
       "      <th></th>\n",
       "      <th>ievent</th>\n",
       "      <th>imuon</th>\n",
       "      <th>Muon_px</th>\n",
       "      <th>Muon_py</th>\n",
       "      <th>Muon_pz</th>\n",
       "      <th>Muon_energy</th>\n",
       "      <th>Muon_charge</th>\n",
       "    </tr>\n",
       "  </thead>\n",
       "  <tbody>\n",
       "    <tr>\n",
       "      <th>0</th>\n",
       "      <td>0</td>\n",
       "      <td>1</td>\n",
       "      <td>19.239374</td>\n",
       "      <td>-1.831505</td>\n",
       "      <td>79.995447</td>\n",
       "      <td>82.296966</td>\n",
       "      <td>-1</td>\n",
       "    </tr>\n",
       "    <tr>\n",
       "      <th>1</th>\n",
       "      <td>0</td>\n",
       "      <td>0</td>\n",
       "      <td>-29.019003</td>\n",
       "      <td>8.491118</td>\n",
       "      <td>-7.981010</td>\n",
       "      <td>31.271541</td>\n",
       "      <td>1</td>\n",
       "    </tr>\n",
       "    <tr>\n",
       "      <th>2</th>\n",
       "      <td>1</td>\n",
       "      <td>1</td>\n",
       "      <td>-13.275436</td>\n",
       "      <td>2.828894</td>\n",
       "      <td>-5.590037</td>\n",
       "      <td>14.679902</td>\n",
       "      <td>1</td>\n",
       "    </tr>\n",
       "    <tr>\n",
       "      <th>3</th>\n",
       "      <td>1</td>\n",
       "      <td>0</td>\n",
       "      <td>-13.828352</td>\n",
       "      <td>2.826926</td>\n",
       "      <td>-5.669556</td>\n",
       "      <td>15.210847</td>\n",
       "      <td>1</td>\n",
       "    </tr>\n",
       "    <tr>\n",
       "      <th>4</th>\n",
       "      <td>2</td>\n",
       "      <td>1</td>\n",
       "      <td>-8.933261</td>\n",
       "      <td>-4.019846</td>\n",
       "      <td>-18.555020</td>\n",
       "      <td>20.982427</td>\n",
       "      <td>1</td>\n",
       "    </tr>\n",
       "  </tbody>\n",
       "</table>\n",
       "</div>"
      ],
      "text/plain": [
       "   ievent  imuon    Muon_px   Muon_py    Muon_pz  Muon_energy  Muon_charge\n",
       "0       0      1  19.239374 -1.831505  79.995447    82.296966           -1\n",
       "1       0      0 -29.019003  8.491118  -7.981010    31.271541            1\n",
       "2       1      1 -13.275436  2.828894  -5.590037    14.679902            1\n",
       "3       1      0 -13.828352  2.826926  -5.669556    15.210847            1\n",
       "4       2      1  -8.933261 -4.019846 -18.555020    20.982427            1"
      ]
     },
     "execution_count": 3,
     "metadata": {},
     "output_type": "execute_result"
    }
   ],
   "source": [
    "data = data.drop(columns=data.columns[0]) ## drop first column which is an arbitrary index\n",
    "data.head()"
   ]
  },
  {
   "cell_type": "code",
   "execution_count": 4,
   "metadata": {},
   "outputs": [
    {
     "name": "stdout",
     "output_type": "stream",
     "text": [
      "There are 83778 events.\n",
      "There are 176392 muons.\n"
     ]
    }
   ],
   "source": [
    "print('There are %d events.' % (len(data.groupby('ievent'))))\n",
    "print('There are %d muons.' % (len(data.index)))"
   ]
  },
  {
   "cell_type": "markdown",
   "metadata": {},
   "source": [
    "**Make histograms of each component of the muon momentum, the muon energy, and the number of muons per event.  You should choose a reasonable binning and range and label the axes. You may want to increase the width of the figure using the argument figsize=(x,y).**"
   ]
  },
  {
   "cell_type": "code",
   "execution_count": 5,
   "metadata": {},
   "outputs": [
    {
     "data": {
      "image/png": "[encoded data removed]",
      "text/plain": [
       "<Figure size 1800x360 with 4 Axes>"
      ]
     },
     "metadata": {
      "needs_background": "light"
     },
     "output_type": "display_data"
    }
   ],
   "source": [
    "## create 4 subplots and make the figure wider\n",
    "fig,axs = plt.subplots(1,4,figsize=(25,5))\n",
    "\n",
    "## plot x-component of momentum for all muons\n",
    "data.hist(column='Muon_px',ax=axs[0])\n",
    "axs[0].set_xlabel('$p_x$ (GeV)')\n",
    "axs[0].set_ylabel('Entries')\n",
    "axs[0].set_yscale('log')\n",
    "\n",
    "## plot y-component of momentum for all muons\n",
    "data.hist(column='Muon_py',ax=axs[1])\n",
    "axs[1].set_xlabel('$p_y$ (GeV)')\n",
    "axs[1].set_ylabel('Entries')\n",
    "axs[1].set_yscale('log')\n",
    "\n",
    "## plot z-component of momentum for all muons\n",
    "data.hist(column='Muon_pz',ax=axs[2])\n",
    "axs[2].set_xlabel('$p_z$ (GeV)')\n",
    "axs[2].set_ylabel('Entries')\n",
    "axs[2].set_yscale('log')\n",
    "\n",
    "## plot energy for all muons\n",
    "data.hist(column='Muon_energy',ax=axs[3])\n",
    "axs[3].set_xlabel('$p_x$ (GeV)')\n",
    "axs[3].set_ylabel('Entries')\n",
    "axs[3].set_yscale('log')"
   ]
  },
  {
   "cell_type": "code",
   "execution_count": 6,
   "metadata": {},
   "outputs": [
    {
     "data": {
      "image/png": "[encoded data removed]",
      "text/plain": [
       "<Figure size 432x288 with 1 Axes>"
      ]
     },
     "metadata": {
      "needs_background": "light"
     },
     "output_type": "display_data"
    }
   ],
   "source": [
    "fig,ax=plt.subplots()\n",
    "nmuons = data.groupby(\"ievent\")[\"imuon\"].count()\n",
    "ax.hist(nmuons,bins=np.arange(np.amin(nmuons),np.amax(nmuons)+2)-0.5,rwidth=0.5)\n",
    "ax.set_xlabel('Number of muons')\n",
    "ax.set_ylabel('Entries')\n",
    "ax.set_title('Number of muons per event')\n",
    "ax.set_yscale('log')"
   ]
  },
  {
   "cell_type": "markdown",
   "metadata": {},
   "source": [
    "**Create all possible pairs of muons for each event and store them in a list called <u>dimuons</u>.  Again, the list should have one entry per event.  Each entry should be a list of numpy arrays with each numpy array representing a 4-vector [px,py,pz,E].  How many dimuon pairs are there?  Make a histogram of each component of the momentum and the energy for each dimuon pair and a histogram of the number of dimuon pairs per event.**"
   ]
  },
  {
   "cell_type": "code",
   "execution_count": 9,
   "metadata": {},
   "outputs": [
    {
     "name": "stdout",
     "output_type": "stream",
     "text": [
      "    ievent  imuon    Muon_px    Muon_py    Muon_pz  Muon_energy  Muon_charge\n",
      "48      24      2   0.152347  -3.247994 -12.574731    12.988753            1\n",
      "49      24      0 -18.175345 -12.554414 -24.611514    33.071049           -1\n",
      "50      24      1 -10.238924  -1.124277 -24.394363    26.480100            1\n",
      "     ievent  imuon    Muon_px    Muon_py    Muon_pz  Muon_energy  Muon_charge\n",
      "125      62      1  -5.225469  -1.540086  -5.251772     7.567672            1\n",
      "126      62      2   1.127324  -3.539438  -1.533002     4.019919            1\n",
      "127      62      0  84.735615  19.623171 -44.702228    97.793117            1\n",
      "     ievent  imuon   Muon_px    Muon_py    Muon_pz  Muon_energy  Muon_charge\n",
      "132      65      2  3.219164   0.488619   2.065808     3.857526           -1\n",
      "133      65      0 -8.978988 -10.092965 -66.348191    67.709555           -1\n",
      "134      65      1  4.349806  -0.696266  -7.831448     8.986009            1\n",
      "     ievent  imuon   Muon_px   Muon_py   Muon_pz  Muon_energy  Muon_charge\n",
      "137      67      3  0.526020  3.231321 -6.501143     7.279709           -1\n",
      "138      67      2  2.541484 -2.382166 -0.618492     3.539429           -1\n",
      "139      67      1  0.673388  3.959610 -8.533731     9.432270           -1\n",
      "140      67      0  3.110669  3.033427 -2.142481     4.845547            1\n",
      "     ievent  imuon    Muon_px    Muon_py     Muon_pz  Muon_energy  Muon_charge\n",
      "149      72      0 -15.325908  21.730178 -114.746064   117.786903           -1\n",
      "150      72      1   5.007707   0.675714   -5.946015     7.803845           -1\n",
      "151      72      2  -3.370734  -0.973800  -14.537275    14.955056           -1\n",
      "152      72      3   0.801196   2.939378   -8.968756     9.472677           -1\n"
     ]
    },
    {
     "data": {
      "text/html": [
       "<div>\n",
       "<style scoped>\n",
       "    .dataframe tbody tr th:only-of-type {\n",
       "        vertical-align: middle;\n",
       "    }\n",
       "\n",
       "    .dataframe tbody tr th {\n",
       "        vertical-align: top;\n",
       "    }\n",
       "\n",
       "    .dataframe thead th {\n",
       "        text-align: right;\n",
       "    }\n",
       "</style>\n",
       "<table border=\"1\" class=\"dataframe\">\n",
       "  <thead>\n",
       "    <tr style=\"text-align: right;\">\n",
       "      <th></th>\n",
       "      <th>ievent</th>\n",
       "      <th>imuon</th>\n",
       "      <th>Muon_px</th>\n",
       "      <th>Muon_py</th>\n",
       "      <th>Muon_pz</th>\n",
       "      <th>Muon_energy</th>\n",
       "      <th>Muon_charge</th>\n",
       "    </tr>\n",
       "  </thead>\n",
       "  <tbody>\n",
       "    <tr>\n",
       "      <th>217</th>\n",
       "      <td>105</td>\n",
       "      <td>2</td>\n",
       "      <td>-1.702265</td>\n",
       "      <td>5.259903</td>\n",
       "      <td>-1.686644</td>\n",
       "      <td>5.781022</td>\n",
       "      <td>-1</td>\n",
       "    </tr>\n",
       "    <tr>\n",
       "      <th>218</th>\n",
       "      <td>105</td>\n",
       "      <td>1</td>\n",
       "      <td>9.364015</td>\n",
       "      <td>16.088778</td>\n",
       "      <td>18.339382</td>\n",
       "      <td>26.131928</td>\n",
       "      <td>1</td>\n",
       "    </tr>\n",
       "    <tr>\n",
       "      <th>219</th>\n",
       "      <td>105</td>\n",
       "      <td>0</td>\n",
       "      <td>15.936760</td>\n",
       "      <td>23.597799</td>\n",
       "      <td>27.287174</td>\n",
       "      <td>39.439035</td>\n",
       "      <td>1</td>\n",
       "    </tr>\n",
       "  </tbody>\n",
       "</table>\n",
       "</div>"
      ],
      "text/plain": [
       "     ievent  imuon    Muon_px    Muon_py    Muon_pz  Muon_energy  Muon_charge\n",
       "217     105      2  -1.702265   5.259903  -1.686644     5.781022           -1\n",
       "218     105      1   9.364015  16.088778  18.339382    26.131928            1\n",
       "219     105      0  15.936760  23.597799  27.287174    39.439035            1"
      ]
     },
     "execution_count": 9,
     "metadata": {},
     "output_type": "execute_result"
    }
   ],
   "source": [
    "# group by the event number into a bunch of short dataframes\n",
    "# each with just the muons in that event\n",
    "for ievent,df in data.groupby(\"ievent\"):\n",
    "    if df['imuon'].count() <= 2 : continue\n",
    "    if ievent > 100: break\n",
    "    print(df)\n",
    "    \n",
    "df"
   ]
  },
  {
   "cell_type": "code",
   "execution_count": null,
   "metadata": {},
   "outputs": [],
   "source": [
    "#events = data.groupby(['ievent','imuon'],as_index=False)\n",
    "events = data\n",
    "events['Muon'] = np.array([events.Muon_px,events.Muon_py,events.Muon_pz,events.Muon_energy,events.Muon_charge])\n",
    "events.head()\n",
    "#events2 = events.groupby(['ievent'])\n",
    "#for event,frame in events2:\n",
    "#    print(frame.head(),'\\n\\n')"
   ]
  },
  {
   "cell_type": "code",
   "execution_count": null,
   "metadata": {},
   "outputs": [],
   "source": [
    "from itertools import combinations\n"
   ]
  },
  {
   "cell_type": "code",
   "execution_count": null,
   "metadata": {},
   "outputs": [],
   "source": [
    "## create all possible pairs of muons for each event\n",
    "dimuons = []\n",
    "for index,lom in enumerate(muons):\n",
    "    if index == len(dimuons): dimuons.append([])\n",
    "    for idx,i in enumerate(lom[:-1]):\n",
    "        for j in lom[idx+1:]:\n",
    "            dimuons[index].append(i+j)"
   ]
  },
  {
   "cell_type": "markdown",
   "metadata": {},
   "source": [
    "**Calculate the invariant mass for each dimuon pair.  Recall the relation $E^2 = p^2c^2 + m^2c^4$.  Here value are in a unit system where c=1.  Make a histogram of dimuon invariant mass.  Play around a bit to find a suitable binning.  What do you observe?**"
   ]
  },
  {
   "cell_type": "code",
   "execution_count": null,
   "metadata": {},
   "outputs": [],
   "source": [
    "## calculate the invariant mass of the muon pairs\n",
    "def get_mass(i):\n",
    "    return np.sqrt(i[-1]*i[-1]-np.sum(i[:-1]*i[:-1]))\n",
    "\n",
    "dimumass = []\n",
    "for lod in dimuons:\n",
    "    for x in lod:\n",
    "        m = get_mass(x)\n",
    "        dimumass.append(m)"
   ]
  },
  {
   "cell_type": "code",
   "execution_count": null,
   "metadata": {},
   "outputs": [],
   "source": [
    "## make a histogram of the dimuon invariant mass\n",
    "fig,ax=plt.subplots()\n",
    "vals,bins,patches=ax.hist(dimumass,bins=20,rwidth=0.75)\n",
    "ax.set_xlabel('Dimuon mass (GeV)')\n",
    "ax.set_ylabel('Entries')\n",
    "ax.set_title('Mass of dimuon candidates')\n",
    "ax.set_yscale('log')"
   ]
  },
  {
   "cell_type": "code",
   "execution_count": null,
   "metadata": {},
   "outputs": [],
   "source": [
    "## let's try with a different binning focused more on the lower mass values where most of the entries are\n",
    "fig,ax=plt.subplots()\n",
    "\n",
    "vals,bins,patches=ax.hist(dimumass,bins=np.linspace(0,200,41),rwidth=0.75)\n",
    "ax.set_xlabel('Dimuon mass (GeV)')\n",
    "ax.set_ylabel('Entries')\n",
    "ax.set_title('Mass of dimuon candidates')\n",
    "ax.set_yscale('log')"
   ]
  },
  {
   "cell_type": "markdown",
   "metadata": {},
   "source": [
    "**Do you see any peaks? If so around what mass value(s)? What are you observering?**"
   ]
  },
  {
   "cell_type": "markdown",
   "metadata": {},
   "source": [
    "**Now separate the dimuon candidates into two samples, those with the same electric charge and those with opposite electric charge. How many pairs of each type do you get? Plot the invariant mass for dimuon pairs for the two samples.  What do you see?**"
   ]
  },
  {
   "cell_type": "code",
   "execution_count": null,
   "metadata": {},
   "outputs": [],
   "source": [
    "## read muon data from csv file into a list, with an entry (list) for each event containing np.array with the muon 4-vector components\n",
    "muons = []\n",
    "with open('total_withouttruth_mod.csv') as csv_file:\n",
    "    csv_reader = csv.reader(csv_file,delimiter=',')\n",
    "    for index,row in enumerate(csv_reader):\n",
    "        if index==0: continue\n",
    "        nrow,nevt,nmu,px,py,pz,E,charge=convert_row(row)\n",
    "        if nevt == len(muons): muons.append([])\n",
    "        muons[nevt].append(np.array([px,py,pz,E,charge]))\n",
    "        \n",
    "csv_file.close()"
   ]
  },
  {
   "cell_type": "code",
   "execution_count": null,
   "metadata": {},
   "outputs": [],
   "source": [
    "## create all possible pairs of muons for each event, separately for those with the same and opposite electric charge\n",
    "dimuons=[]\n",
    "for index,lom in enumerate(muons):\n",
    "    if index == len(dimuons): dimuons.append([])\n",
    "    for idx,i in enumerate(lom[:-1]):\n",
    "        for j in lom[idx+1:]:\n",
    "            dimuons[index].append(i+j)\n",
    "            \n",
    "dimuons_same_charge = [x for event in dimuons for x in event if x[4]!=0 ]\n",
    "dimuons_opposite_charge = [x for event in dimuons for x in event if x[4]==0]\n",
    "print('Found %d pairs of muons with the same electric charge.' % (len(dimuons_same_charge)))\n",
    "print('Found %d pairs of muons with the opposite electric charge.' % (len(dimuons_opposite_charge)))"
   ]
  },
  {
   "cell_type": "code",
   "execution_count": null,
   "metadata": {},
   "outputs": [],
   "source": [
    "## calculate the invariant mass of the muon pairs\n",
    "def get_mass(i):\n",
    "    return np.sqrt(i[-2]*i[-2]-np.sum(i[:-2]*i[:-2]))\n",
    "\n",
    "dimumass_same_charge = []\n",
    "for dimu in dimuons_same_charge:\n",
    "    m = get_mass(dimu)\n",
    "    dimumass_same_charge.append(m)\n",
    "        \n",
    "dimumass_opposite_charge = []\n",
    "for dimu in dimuons_opposite_charge:\n",
    "    m = get_mass(dimu)\n",
    "    dimumass_opposite_charge.append(m)"
   ]
  },
  {
   "cell_type": "code",
   "execution_count": null,
   "metadata": {},
   "outputs": [],
   "source": [
    "## make a histogram of the dimuon invariant mass\n",
    "fig,axs=plt.subplots(1,2,figsize=(12.5,5))\n",
    "\n",
    "## dimuon pairs with same electric charge\n",
    "vals0,bins0,patches0=axs[0].hist(dimumass_same_charge,bins=20,rwidth=0.75)\n",
    "axs[0].set_xlabel('Dimuon mass (GeV)')\n",
    "axs[0].set_ylabel('Entries')\n",
    "axs[0].set_title('Mass of dimuon candidates with same electric charge')\n",
    "axs[0].set_yscale('log')\n",
    "\n",
    "## dimuon pairs with opposite electric charge\n",
    "vals1,bins1,patches1=axs[1].hist(dimumass_opposite_charge,bins=20,rwidth=0.75)\n",
    "axs[1].set_xlabel('Dimuon mass (GeV)')\n",
    "axs[1].set_ylabel('Entries')\n",
    "axs[1].set_title('Mass of dimuon candidates with opposite electric charge')\n",
    "axs[1].set_yscale('log')"
   ]
  },
  {
   "cell_type": "code",
   "execution_count": null,
   "metadata": {},
   "outputs": [],
   "source": [
    "## make a histogram of the dimuon invariant mass zooming in on region below 200 GeV\n",
    "fig,axs=plt.subplots(1,2,figsize=(12.5,5))\n",
    "bins=np.linspace(0,200,41)\n",
    "\n",
    "## dimuon pairs with same electric charge\n",
    "vals0,bins0,patches0=axs[0].hist(dimumass_same_charge,bins=bins,rwidth=0.75)\n",
    "axs[0].set_xlabel('Dimuon mass (GeV)')\n",
    "axs[0].set_ylabel('Entries')\n",
    "axs[0].set_title('Mass of dimuon candidates with same electric charge')\n",
    "axs[0].set_yscale('log')\n",
    "\n",
    "## dimuon pairs with opposite electric charge\n",
    "vals1,bins1,patches1=axs[1].hist(dimumass_opposite_charge,bins=bins,rwidth=0.75)\n",
    "axs[1].set_xlabel('Dimuon mass (GeV)')\n",
    "axs[1].set_ylabel('Entries')\n",
    "axs[1].set_title('Mass of dimuon candidates with opposite electric charge')\n",
    "axs[1].set_yscale('log')"
   ]
  }
 ],
 "metadata": {
  "kernelspec": {
   "display_name": "Python 3.7",
   "language": "python",
   "name": "python-3.7"
  },
  "language_info": {
   "codemirror_mode": {
    "name": "ipython",
    "version": 3
   },
   "file_extension": ".py",
   "mimetype": "text/x-python",
   "name": "python",
   "nbconvert_exporter": "python",
   "pygments_lexer": "ipython3",
   "version": "3.7.0"
  }
 },
 "nbformat": 4,
 "nbformat_minor": 2
}
