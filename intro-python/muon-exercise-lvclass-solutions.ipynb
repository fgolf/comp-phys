{
 "cells": [
  {
   "cell_type": "markdown",
   "metadata": {},
   "source": [
    "In this exercise we'll take a look at some (simulated) proton-proton collision data.  The events chosen all have at least two reconstructed muons.  If you're not familiar, a muon is a heavy cousin of the electron; see [here](https://en.wikipedia.org/wiki/Muon) and [here](https://pdg.lbl.gov/2020/tables/rpp2020-sum-leptons.pdf) for some more information.  Some of these events contain (at least) a pair of real muons with opposite electric charge frmo the decay of a Z boson (see [here](https://en.wikipedia.org/wiki/W_and_Z_bosons),[here](https://pdg.lbl.gov/2020/listings/rpp2020-list-z-boson.pdf)).  Other events contain one real muon (could have positive or negative charge) from the decay of a W boson (more [here](https://pdg.lbl.gov/2020/listings/rpp2020-list-w-boson.pdf)) and one or more \"fake\" muons of either electric charge.  Here, fake means a lepton that is not from the decay of a W or Z boson.  These are typically from semi-leptonic decays of charm or bottom hadrons or decays in flight of kaons.\n",
    "\n",
    "Take a look at the data in the file *total_withouttruth_mod.csv*.  Each row contains 8 values, separated by commas, containing the following information:\n",
    "\n",
    "column 0: arbitrary index <br>\n",
    "column 1: event number <br>\n",
    "column 2: muon index in that event <br>\n",
    "column 3: x-component of muon momentum <br>\n",
    "column 4: y-component of muon momentum <br>\n",
    "column 5: z-component of muon momentum <br>\n",
    "column 6: muon energy <br>\n",
    "column 7: muon electric charge <br>\n",
    "\n",
    "Read in the data, organizing muons by event.  Plot a histogram of the invariant mass of all possible pairs of muons in each event, i.e. you may have more than one entry per event.  Play around and choose reasonable binning and comment on your observations.  Then, split the muon pairs into two samples, one where the muons have opposite electric charge and one where the muons have the same electric charge.  Plot histograms of the two populations and comment on your observations."
   ]
  },
  {
   "cell_type": "code",
   "execution_count": 1,
   "metadata": {},
   "outputs": [],
   "source": [
    "import matplotlib.pyplot as plt\n",
    "%matplotlib inline\n",
    "import csv\n",
    "import numpy as np\n",
    "\n",
    "import sys\n",
    "from os import getcwd\n",
    "sys.path.append(getcwd())\n",
    "from convert_muon_data import convert_row"
   ]
  },
  {
   "cell_type": "markdown",
   "metadata": {},
   "source": [
    "**Write a LorentzVector class. Your class should at least store the energy-momentum 4-vector and provide accessors to the components. It should also define addition and subtraction operators.  Then write a Particle class that stores a LorenzVector and the charge and define an addition operator.**"
   ]
  },
  {
   "cell_type": "code",
   "execution_count": 2,
   "metadata": {},
   "outputs": [],
   "source": [
    "import getpass\n",
    "path='/'.join(getcwd().split('/')[:-1])+'/tools/'\n",
    "sys.path.append(path)\n",
    "from LV import LorentzVector\n",
    "\n",
    "class Particle(object):\n",
    "    def __init__(self,q,lv,*args):\n",
    "        if isinstance(lv,LorentzVector):\n",
    "            self.lv = LorentzVector(lv.p4)\n",
    "        elif len(args)==3:\n",
    "            self.lv = LorentzVector(lv,*args)\n",
    "        else:\n",
    "            print('Invalid Particle construction')\n",
    "        self.q = q\n",
    "    def E(self):\n",
    "        return self.lv.E()\n",
    "    def px(self):\n",
    "        return self.lv.px()\n",
    "    def py(self):\n",
    "        return self.lv.py()\n",
    "    def pz(self):\n",
    "        return self.lv.pz()\n",
    "    def m(self):\n",
    "        return self.lv.m()\n",
    "    def __add__(self,other):\n",
    "        return Particle(self.q+other.q,self.lv+other.lv) \n",
    "    def _rep(self):\n",
    "        return 'q = %s, E = %s, px = %s, py = %s, pz = %s' % (self.q,self.E(),self.px(),self.py(),self.pz())\n",
    "    __str__ = _rep\n",
    "    __rep__ = _rep"
   ]
  },
  {
   "cell_type": "markdown",
   "metadata": {},
   "source": [
    "**Read data from CSV file using csv.reader. Use the methods in convert_muon_data to parse each row and store the output in a list called <u>muons</u>.  The list should have one entry per event.  Each entry should be a list of Particle objects.  How many events are there?  How many muons are there?**"
   ]
  },
  {
   "cell_type": "code",
   "execution_count": 3,
   "metadata": {},
   "outputs": [
    {
     "name": "stdout",
     "output_type": "stream",
     "text": [
      "There are 83778 events.\n",
      "There are 176392 muons.\n"
     ]
    }
   ],
   "source": [
    "## read muon data from csv file into a list, with an entry (list) for each event containing np.array with the muon 4-vector components\n",
    "muons = []\n",
    "with open('total_withouttruth_mod.csv') as csv_file:\n",
    "    csv_reader = csv.reader(csv_file,delimiter=',')\n",
    "    for index,row in enumerate(csv_reader):\n",
    "        if index==0: continue\n",
    "        nrow,nevt,nmu,px,py,pz,E,charge=convert_row(row)\n",
    "        if nevt == len(muons): muons.append([])\n",
    "        muons[nevt].append(Particle(charge,E,px,py,pz))\n",
    "        \n",
    "csv_file.close()\n",
    "\n",
    "print('There are %d events.' % (len(muons)))\n",
    "print('There are %d muons.' % (sum(len(entry) for entry in muons)))"
   ]
  },
  {
   "cell_type": "markdown",
   "metadata": {},
   "source": [
    "**Make histograms of each component of the muon momentum, the muon energy, and the number of muons per event.  You should choose a reasonable binning and range and label the axes.  You may want to increase the width of the figure using the argument figsize=(x,y).**"
   ]
  },
  {
   "cell_type": "code",
   "execution_count": 4,
   "metadata": {},
   "outputs": [
    {
     "data": {
      "image/png": "[encoded data removed]",
      "text/plain": [
       "<Figure size 1800x360 with 4 Axes>"
      ]
     },
     "metadata": {
      "needs_background": "light"
     },
     "output_type": "display_data"
    }
   ],
   "source": [
    "## create 4 subplots and make the figure wider\n",
    "fig,axs = plt.subplots(1,4,figsize=(25,5))\n",
    "\n",
    "## plot x-component of momentum for all muons\n",
    "pxs=[x.px() for event in muons for x in event]\n",
    "vals0,bins0,patches0=axs[0].hist(pxs,range=(np.min(pxs)*1.1,np.max(pxs)*1.1))\n",
    "axs[0].set_xlabel('$p_x$ (GeV)')\n",
    "axs[0].set_ylabel('Entries')\n",
    "axs[0].set_yscale('log')\n",
    "\n",
    "## plot y-component of momentum for all muons\n",
    "pys=[x.py() for event in muons for x in event]\n",
    "vals1,bins1,patches1=axs[1].hist(pys,range=(np.min(pys)*1.1,np.max(pys)*1.1))\n",
    "axs[1].set_xlabel('$p_y$ (GeV)')\n",
    "axs[1].set_ylabel('Entries')\n",
    "axs[1].set_yscale('log')\n",
    "\n",
    "## plot z-component of momentum for all muons\n",
    "pzs=[x.pz() for event in muons for x in event]\n",
    "vals2,bins2,patches2=axs[2].hist(pzs,range=(np.min(pzs)*1.1,np.max(pzs)*1.1))\n",
    "axs[2].set_xlabel('$p_z$ (GeV)')\n",
    "axs[2].set_ylabel('Entries')\n",
    "axs[2].set_yscale('log')\n",
    "\n",
    "## plot x-component of momentum for all muons\n",
    "energies=[x.E() for event in muons for x in event]\n",
    "vals3,bins3,patches3=axs[3].hist(energies,range=(0,np.max(energies)*1.1))\n",
    "axs[3].set_xlabel('E (GeV)')\n",
    "axs[3].set_ylabel('Entries')\n",
    "axs[3].set_ylim(0.1,4*10**5)\n",
    "axs[3].set_yscale('log')"
   ]
  },
  {
   "cell_type": "code",
   "execution_count": 5,
   "metadata": {},
   "outputs": [
    {
     "data": {
      "image/png": "[encoded data removed]",
      "text/plain": [
       "<Figure size 432x288 with 1 Axes>"
      ]
     },
     "metadata": {
      "needs_background": "light"
     },
     "output_type": "display_data"
    }
   ],
   "source": [
    "## plot number of muons per event\n",
    "fig,ax=plt.subplots()\n",
    "\n",
    "nmuons = [len(x) for x in muons]\n",
    "vals,bins,patches=ax.hist(nmuons,bins=np.arange(np.amin(nmuons),np.amax(nmuons)+2)-0.5,rwidth=0.5)\n",
    "ax.set_xlabel('Number of muons')\n",
    "ax.set_ylabel('Entries')\n",
    "ax.set_yscale('log')"
   ]
  },
  {
   "cell_type": "markdown",
   "metadata": {},
   "source": [
    "**Create all possible pairs of muons for each event and store them in a list called <u>dimuons</u>.  Again, the list should have one entry per event.  Each entry should be a list of numpy arrays with each numpy array representing a 4-vector [px,py,pz,E].  How many dimuon pairs are there?  Make a histogram of each component of the momentum and the energy for each dimuon pair and a histogram of the number of dimuon pairs per event.**"
   ]
  },
  {
   "cell_type": "code",
   "execution_count": 6,
   "metadata": {},
   "outputs": [],
   "source": [
    "## create all possible pairs of muons for each event\n",
    "dimuons = []\n",
    "\n",
    "for index,lom in enumerate(muons):\n",
    "    if index == len(dimuons): dimuons.append([])\n",
    "    for idx,i in enumerate(lom[:-1]):\n",
    "        for idx2,j in enumerate(lom[idx+1:]):\n",
    "            dimuons[index].append(i+j)"
   ]
  },
  {
   "cell_type": "markdown",
   "metadata": {},
   "source": [
    "**Calculate the invariant mass for each dimuon pair.  Recall the relation $E^2 = p^2c^2 + m^2c^4$.  Here value are in a unit system where c=1.  Make a histogram of dimuon invariant mass.  Play around a bit to find a suitable binning.  What do you observe?**"
   ]
  },
  {
   "cell_type": "code",
   "execution_count": 7,
   "metadata": {},
   "outputs": [
    {
     "data": {
      "image/png": "[encoded data removed]",
      "text/plain": [
       "<Figure size 432x288 with 1 Axes>"
      ]
     },
     "metadata": {
      "needs_background": "light"
     },
     "output_type": "display_data"
    }
   ],
   "source": [
    "fig,ax=plt.subplots()\n",
    "vals,bins,patches=ax.hist([x.m() for event in dimuons for x in event],bins=np.linspace(0,200,41),rwidth=0.75)\n",
    "ax.set_xlabel('Dimuon mass (GeV)')\n",
    "ax.set_ylabel('Entries')\n",
    "ax.set_title('Mass of dimuon candidates')\n",
    "ax.set_yscale('log')"
   ]
  },
  {
   "cell_type": "markdown",
   "metadata": {},
   "source": [
    "**Do you see any peaks? If so around what mass value(s)? What are you observering?**"
   ]
  },
  {
   "cell_type": "markdown",
   "metadata": {},
   "source": [
    "**Now separate the dimuon candidates into two samples, those with the same electric charge and those with opposite electric charge. How many pairs of each type do you get? Plot the invariant mass for dimuon pairs for the two samples.  What do you see?**"
   ]
  },
  {
   "cell_type": "code",
   "execution_count": 8,
   "metadata": {},
   "outputs": [
    {
     "data": {
      "image/png": "[encoded data removed]",
      "text/plain": [
       "<Figure size 900x360 with 2 Axes>"
      ]
     },
     "metadata": {
      "needs_background": "light"
     },
     "output_type": "display_data"
    }
   ],
   "source": [
    "## make a histogram of the dimuon invariant mass zooming in on region below 200 GeV\n",
    "fig,axs=plt.subplots(1,2,figsize=(12.5,5))\n",
    "bins=np.linspace(0,200,41)\n",
    "\n",
    "## dimuon pairs with same electric charge\n",
    "vals0,bins0,patches0=axs[0].hist([x.m() for event in dimuons for x in event if x.q!=0],bins=bins,rwidth=0.75)\n",
    "axs[0].set_xlabel('Dimuon mass (GeV)')\n",
    "axs[0].set_ylabel('Entries')\n",
    "axs[0].set_title('Mass of dimuon candidates with same electric charge')\n",
    "axs[0].set_yscale('log')\n",
    "\n",
    "## dimuon pairs with opposite electric charge\n",
    "vals1,bins1,patches1=axs[1].hist([x.m() for event in dimuons for x in event if x.q==0],bins=bins,rwidth=0.75)\n",
    "axs[1].set_xlabel('Dimuon mass (GeV)')\n",
    "axs[1].set_ylabel('Entries')\n",
    "axs[1].set_title('Mass of dimuon candidates with opposite electric charge')\n",
    "axs[1].set_yscale('log')"
   ]
  }
 ],
 "metadata": {
  "kernelspec": {
   "display_name": "Python 3.7",
   "language": "python",
   "name": "python-3.7"
  },
  "language_info": {
   "codemirror_mode": {
    "name": "ipython",
    "version": 3
   },
   "file_extension": ".py",
   "mimetype": "text/x-python",
   "name": "python",
   "nbconvert_exporter": "python",
   "pygments_lexer": "ipython3",
   "version": "3.7.0"
  }
 },
 "nbformat": 4,
 "nbformat_minor": 2
}
