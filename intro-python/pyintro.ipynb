{
 "cells": [
  {
   "cell_type": "markdown",
   "metadata": {},
   "source": [
    "This notebook is meant to serve as a brief intro/review of python.  It is nowhere near a complete introduction to the language, but is meant to get you up and going for this course.  Let's start with printing output and receiving input.  First, let's ask a user for their name."
   ]
  },
  {
   "cell_type": "code",
   "execution_count": null,
   "metadata": {
    "scrolled": true
   },
   "outputs": [],
   "source": [
    "name = input('What is your name? ')"
   ]
  },
  {
   "cell_type": "markdown",
   "metadata": {},
   "source": [
    "Now let's print the name the user gave us to the screen."
   ]
  },
  {
   "cell_type": "code",
   "execution_count": null,
   "metadata": {
    "scrolled": true
   },
   "outputs": [],
   "source": [
    "print('Hi %s' % (name))"
   ]
  },
  {
   "cell_type": "markdown",
   "metadata": {},
   "source": [
    "In the example above, the **%s** indicates that it expects to print a string and the value that is substituted there is what is stored in name.  It turns out Joe is a student at UNL.  Thanks to the university's excellent records, we know how old Joe is and his GPA."
   ]
  },
  {
   "cell_type": "code",
   "execution_count": null,
   "metadata": {
    "scrolled": true
   },
   "outputs": [],
   "source": [
    "age = 20.4\n",
    "gpa = 3.257\n",
    "print('%s\\'s gpa is %s. He is %s years old.' % (name,gpa,age))"
   ]
  },
  {
   "cell_type": "markdown",
   "metadata": {},
   "source": [
    "The above syntax works for any number of arguments, but you need to be careful to pass them in the correct order. Note that the apostrophe in the first word required escaping, i.e. preceding with a forward slash, the character.\n",
    "\n",
    "Now, we usually don't talk about a person's age as a decimal, so it would be better to print it out in the format we expect.  Turns out we can do this by indicating a floating point or integer value and the desired precision."
   ]
  },
  {
   "cell_type": "code",
   "execution_count": null,
   "metadata": {
    "scrolled": true
   },
   "outputs": [],
   "source": [
    "print('%s\\'s gpa is %.2f. He is %d years old.' % (name,gpa,age))"
   ]
  },
  {
   "cell_type": "markdown",
   "metadata": {},
   "source": [
    "That's better. For the second value passed in, the character *f* indicates a floating point value and *.2* tells it to print up to two digits after the decimal point.  For the third value, the character *d* indicates an integer value.  Note that the values of gpa and age were automatically cast to the appropriate type.\n",
    "\n",
    "There is another syntax that can be used to achieve the same formatting and offers some additional flexibility in the order in which values are passed."
   ]
  },
  {
   "cell_type": "code",
   "execution_count": null,
   "metadata": {
    "scrolled": true
   },
   "outputs": [],
   "source": [
    "print('{2}\\'s gpa is {0:.2f}. He is {1:.0f} years old'.format(gpa,age,name))"
   ]
  },
  {
   "cell_type": "markdown",
   "metadata": {},
   "source": [
    "Notice that we printed the age as a floating point number with no digits after the decimal point.  If we try to print it as an integer it does not work here because age contains a decimal point and so it is cast to a float."
   ]
  },
  {
   "cell_type": "code",
   "execution_count": null,
   "metadata": {
    "scrolled": true
   },
   "outputs": [],
   "source": [
    "print('{2}\\'s gpa is {0:.2f}. He is {1:d} years old'.format(gpa,int(age),name))"
   ]
  },
  {
   "cell_type": "markdown",
   "metadata": {},
   "source": [
    "You may have noticed that input and print have similar syntax:\n",
    "\n",
    "**raw_input('some stuff')** --> *prompts user and returns entered value as a string* <br>\n",
    "**print('some stuff')** --> *writes to the screen 'some stuff'*\n",
    "\n",
    "Both are of the form:\n",
    "\n",
    "name(inputs) --> return outputs\n",
    "\n",
    "They are called functions.  Functions allow us to take a block of code that does some logical set of operations and use it in many places by just calling the function name.  The function takes a set of inputs that the user provides and may return any outputs it produces to the user.  To see how this works, let's write a function that takes a single input, an integer, and returns a Boolean value indicating whether the input integer is prime (True) or not (False)."
   ]
  },
  {
   "cell_type": "code",
   "execution_count": null,
   "metadata": {
    "scrolled": true
   },
   "outputs": [],
   "source": [
    "import math\n",
    "\n",
    "def is_prime(n):\n",
    "    if n < 2: return False\n",
    "    for factor in range(2,math.ceil(math.sqrt(n))+1):\n",
    "        if n % factor == 0: return False\n",
    "    return True"
   ]
  },
  {
   "cell_type": "markdown",
   "metadata": {},
   "source": [
    "Ok, there are a lot of new ideas introduced here.\n",
    "\n",
    "The first line above, **import math**, imports the math module.  This makes available to you tools (e.g. variables,functions, new object type) contained in the math module, which are many.  Modules are one reason why python is useful.  There are a large number of modules that provide many tools for scientific computing.\n",
    "\n",
    "Ok, the next line is *def is_prime(n)*.  The keyword **def** indicates that we're defining a new function.  After **def** we need to provide a unique name for our function, in this case *is_prime*.  Following the function name there is *(input1,...,inputN)*.  Within the parenthesis we define what inputs are to be passed to the function, in this case just one input *n*.  The line should be terminated by *:*.\n",
    "\n",
    "The function definition, i.e. the code that what we want when the function is called, immediately follows the definition line and is intended.  Here we want to determine if an integer is prime.  For numbers that aren't too big (for computers), we can do this brute force by checking if there is any integer that is a divisor (besides 1 and the number).  We don't have to check all integers, only those less than or equal to the square root of the input number.  We also need to check edge cases, e.g. negative numbers, zero, etc.\n",
    "\n",
    "When considering different cases as above, for example, we can express it as a sequence of logical decisions, e.g.\n",
    "\n",
    "```python\n",
    "if bool_statement_1:\n",
    "    do this\n",
    "elif bool_statement_2:\n",
    "    do that\n",
    "else:\n",
    "    do the other\n",
    "```\n",
    "\n",
    "The keywords **if**,**elif**,**else** indicate a conditional decision.  The keyword **if** begins a conditional decision making block.  It is generally good practice to end the decision block with an **else** statement, but it isn't strictly necessary as seen above.  You may optionally have one or more **elif** statements between the initiating **if** and terminating **else**.\n",
    "\n",
    "For our problem, the decision block is something like:\n",
    "\n",
    "```python\n",
    "if 0 or negative: return False\n",
    "elif: has integer divisor: return False\n",
    "else: return True\n",
    "```\n",
    "\n",
    "The real work is done by the next two lines.  The keyword **for** indicates a loop.  The function **range** takes two arguments, a lower bound and an upper bound as integers.  It returns an object called a **list** (actually a range object, but we can cast it to a list, more below).  A list is an ordered sequence of data where each element can be accessed by an index.  If you have experience in languages such as C++ or Java, a list is kind of like an array.  For example"
   ]
  },
  {
   "cell_type": "code",
   "execution_count": null,
   "metadata": {},
   "outputs": [],
   "source": [
    "mylist = list(range(1,10))\n",
    "print(mylist)\n",
    "print(mylist[0])\n",
    "print(mylist[-1])"
   ]
  },
  {
   "cell_type": "markdown",
   "metadata": {},
   "source": [
    "Ok, back to the for loop.  The line should terminate with a colon.  Lines that follow and are indented are repeated for each iteration of the loop.  In this case, the loop is over the elements of the list returned by the call to the function range and the variable *factor* has the value of that element.\n",
    "\n",
    "Let's check our is_prime function for a few values: -1,0,2,17, and 146."
   ]
  },
  {
   "cell_type": "code",
   "execution_count": null,
   "metadata": {
    "scrolled": true
   },
   "outputs": [],
   "source": [
    "test_vals = [-1,0,2,17,146]\n",
    "for n in test_vals:\n",
    "    print('The number {} {} prime.'.format(n,'is' if is_prime(n) else 'is not'))"
   ]
  },
  {
   "cell_type": "markdown",
   "metadata": {},
   "source": [
    "The function behaves as expected.  As mentioned above, a list is similar to an array in C/C++ or Java.  Elements of the array are stored in sequential order and are accessed by index."
   ]
  },
  {
   "cell_type": "code",
   "execution_count": null,
   "metadata": {
    "scrolled": true
   },
   "outputs": [],
   "source": [
    "for index in range(0,len(test_vals)):\n",
    "    print('{}: {}'.format(index,test_vals[index]))"
   ]
  },
  {
   "cell_type": "markdown",
   "metadata": {},
   "source": [
    "We can do the same thing as above more efficiently using the **enumerate** function."
   ]
  },
  {
   "cell_type": "code",
   "execution_count": null,
   "metadata": {},
   "outputs": [],
   "source": [
    "for index,val in enumerate(test_vals):\n",
    "    print(index,': ',val)"
   ]
  },
  {
   "cell_type": "markdown",
   "metadata": {},
   "source": [
    "Our simple example above already indicated some of the potential power of lists and loops.  Base python provides a number of useful collections.  Let's explore a few of them here starting with a closer look at lists."
   ]
  },
  {
   "cell_type": "code",
   "execution_count": null,
   "metadata": {},
   "outputs": [],
   "source": [
    "print(mylist)\n",
    "\n",
    "# get number of elements in list\n",
    "print('The list has %d elements.' % (len(mylist)))\n",
    "\n",
    "# get largest element in list\n",
    "print('The largest element in the list is %d' % (max(mylist)))\n",
    "\n",
    "# get smallest element in list\n",
    "print('The smallest element in the list is %d' % (min(mylist)))\n",
    "\n",
    "# add an element to the list\n",
    "mylist.append(10)\n",
    "print(mylist)\n",
    "\n",
    "# add a list to another list\n",
    "mylist2 = list(range(11,20))\n",
    "print(mylist2)\n",
    "mylist.extend(mylist2)\n",
    "print(mylist)\n",
    "\n",
    "# remove an element from the list\n",
    "mylist.remove(13)\n",
    "print(mylist)"
   ]
  },
  {
   "cell_type": "markdown",
   "metadata": {},
   "source": [
    "Lists can contain any type of object or mix of objects, not just numbers."
   ]
  },
  {
   "cell_type": "code",
   "execution_count": null,
   "metadata": {},
   "outputs": [],
   "source": [
    "names = ['Kenneth','Evan','Chaitanya','Aniruddha','Joseph','Mason','Alexander','Niko']\n",
    "print(names)\n",
    "print(len(names))\n",
    "\n",
    "# sort names alphabetically\n",
    "names.sort()\n",
    "print(names)\n",
    "\n",
    "# lists can mix objects\n",
    "names.append(8)\n",
    "print(names)\n",
    "\n",
    "# lists of mixed objects can't be sorted by default\n",
    "try:\n",
    "    names.sort()\n",
    "except:\n",
    "    print('unable to sort list of different types of objects')"
   ]
  },
  {
   "cell_type": "markdown",
   "metadata": {},
   "source": [
    "Slicing is a powerful feature that allow us to easily index a sub-range of a list."
   ]
  },
  {
   "cell_type": "code",
   "execution_count": null,
   "metadata": {},
   "outputs": [],
   "source": [
    "# elements of a list can be changed\n",
    "names[8] = 'Prof Golf'\n",
    "print(names)\n",
    "print(names[2:5])\n",
    "print(names[-6:-3])\n",
    "print(names[:3])\n",
    "print(names[-3:])"
   ]
  },
  {
   "cell_type": "markdown",
   "metadata": {},
   "source": [
    "Also easy to check if a lists contains an element."
   ]
  },
  {
   "cell_type": "code",
   "execution_count": null,
   "metadata": {},
   "outputs": [],
   "source": [
    "def check_name(name):\n",
    "    print('%s %s in class' % (name, 'is' if name in names else 'is not'))\n",
    "    return\n",
    "\n",
    "check_name('Evan')\n",
    "check_name('Joe')"
   ]
  },
  {
   "cell_type": "markdown",
   "metadata": {},
   "source": [
    "**Example 1** Write a function that takes as input an integer *n* and returns a list of prime numbers smaller than *n*."
   ]
  },
  {
   "cell_type": "code",
   "execution_count": null,
   "metadata": {},
   "outputs": [],
   "source": [
    "def primes(n):\n",
    "    lop = []\n",
    "    if n < 2: return lop\n",
    "    for i in range(2,n):\n",
    "        if is_prime(i): lop.append(i)\n",
    "    return lop"
   ]
  },
  {
   "cell_type": "code",
   "execution_count": null,
   "metadata": {},
   "outputs": [],
   "source": [
    "test_values = [-1,0,1,2,7,46,132]\n",
    "for val in test_values:\n",
    "    lop = primes(val)\n",
    "    print(val,': ',', '.join([str(i) for i in lop]))"
   ]
  },
  {
   "cell_type": "markdown",
   "metadata": {},
   "source": [
    "Can also do this succintly using the **filter** function."
   ]
  },
  {
   "cell_type": "code",
   "execution_count": null,
   "metadata": {},
   "outputs": [],
   "source": [
    "def primes_filter(n):\n",
    "    return filter(is_prime,range(n))\n",
    "\n",
    "for val in test_values:\n",
    "    lop = primes_filter(val)\n",
    "    print(val,': ',', '.join([str(i) for i in lop]))"
   ]
  },
  {
   "cell_type": "markdown",
   "metadata": {},
   "source": [
    "**Example 2** Write a function that takes as input the name of a file and returns a tuple with the number of lines, words, and characters in the file.  Compare with the output of the bash utility wc.  "
   ]
  },
  {
   "cell_type": "code",
   "execution_count": null,
   "metadata": {},
   "outputs": [],
   "source": [
    "def wc(fname):\n",
    "    with open(fname,'r') as fh:\n",
    "        lines = fh.readlines()\n",
    "    fh.close()\n",
    "    nl = len(lines) # number of lines\n",
    "    nw = sum(map(lambda x: len(x.strip().split()),lines))\n",
    "    nc = sum(map(lambda x: len(x), lines))\n",
    "    return (nl,nw,nc)"
   ]
  },
  {
   "cell_type": "markdown",
   "metadata": {},
   "source": [
    "Lot's of new stuff again.  The function **open** is used to open files for reading/writing. The flag *'r'* indicates that the file should be opened as read-only.  The method *readlines()* returns a list of strings with one string per line in file *fh*.  When done reading a file, you should close it using the method *close()*.\n",
    "\n",
    "The function **map** above takes two arguments: the first is a function and the second is an iterable (e.g an object we can iterate over such as a list) to which the function is applied to each element.  The result of **map** is a list of return objects from the function, one per input.  The keyword **lambda** allows us to define functions inline.  In this case, you can understand this as a function that takes an input parameter *x* and returns the result of what follows after the *:*, e.g. the length of the string.  Above, the use of **map** means that the **lambda** function is applied to each element of the list lines, i.e. to each element in the file that we read.  Finally, the function **sum** adds up the value of all elements of the list to which it applied."
   ]
  },
  {
   "cell_type": "code",
   "execution_count": null,
   "metadata": {},
   "outputs": [],
   "source": [
    "(nl,nw,nc) = wc('pyintro.ipynb')\n",
    "print('{} lines, {} words, {} characters'.format(nl,nw,nc))"
   ]
  },
  {
   "cell_type": "markdown",
   "metadata": {},
   "source": [
    "List objects are useful for working with *unlabeled* data.  In many cases, we want to associate to sets of data.  For example, student names and grades.  Let's explore how to do this using lists."
   ]
  },
  {
   "cell_type": "code",
   "execution_count": null,
   "metadata": {},
   "outputs": [],
   "source": [
    "fnames = ['Kenneth','Evan','Chaitanya','Aniruddha','Joseph','Mason','Alexander','Niko'] ## list of first names\n",
    "grades = ['B','A','B','B','A','B','B','A']\n",
    "\n",
    "# find grade for student\n",
    "def get_grade(student):\n",
    "    index = fnames.index(student)\n",
    "    return grades[index]\n",
    "\n",
    "# assign student a (new) grade\n",
    "# return False if update fails, grade otherwise\n",
    "def update_grade(student,grade):\n",
    "    if len(fnames) != len(grades):\n",
    "        return False\n",
    "    else:\n",
    "        index = fnames.index(student)\n",
    "        if index < 0: # Mason not in grade book\n",
    "            fnames.append(student)\n",
    "            grades.append(grade)\n",
    "        else:\n",
    "            grades[index] = grade\n",
    "        return grade\n",
    "    \n",
    "student = 'Mason'\n",
    "print('{} is receiving a {}'.format(student,get_grade(student)))\n",
    "\n",
    "new_grade = 'A'\n",
    "update_grade(student,new_grade)\n",
    "print('{} is receiving an {}'.format(student,get_grade(student)))"
   ]
  },
  {
   "cell_type": "markdown",
   "metadata": {},
   "source": [
    "It's clear from the above example that accessing information stored by index can be cumbersome and storing information this way is potentially error prone.  A better way to work with *labeled* data is to use a python **dictionary**, or **dict** for short.  A dicitionary is similar in some ways to a map in C++.  Let's start by looking at the different ways we can create a dictionary."
   ]
  },
  {
   "cell_type": "code",
   "execution_count": null,
   "metadata": {},
   "outputs": [],
   "source": [
    "dnames1 = {'Kenneth':'B','Evan':'A'}\n",
    "dnames2 = {}\n",
    "for index,val in enumerate(fnames):\n",
    "    dnames2[val] = grades[index]\n",
    "dnames3 = {fnames[i]:grades[i] for i in range(len(fnames))}\n",
    "dnames = dict(zip(fnames,grades))\n",
    "\n",
    "print('dnames1: ', dnames1)\n",
    "print('dnames2: ', dnames2)\n",
    "print('dnames3: ', dnames3)\n",
    "print('dnames: ', dnames)"
   ]
  },
  {
   "cell_type": "markdown",
   "metadata": {},
   "source": [
    "Dictionaries allow us to access data by its label, e.g. find a grade using the name (rather than an index)."
   ]
  },
  {
   "cell_type": "code",
   "execution_count": null,
   "metadata": {},
   "outputs": [],
   "source": [
    "# get grade for Evan\n",
    "print('Evan: ',dnames['Evan'])\n",
    "\n",
    "# change grade for Mason\n",
    "print('Mason: ',dnames['Mason'])\n",
    "dnames['Mason'] = 'B'\n",
    "print('Mason: ',dnames['Mason'])\n",
    "\n",
    "# check if there is an entry for new student Joe\n",
    "# if so, change his grade to a 'B'\n",
    "# if not, add him with no grade\n",
    "if 'Joe' in dnames:\n",
    "    dnames['Joe'] = 'B'\n",
    "else:\n",
    "    dnames['Joe'] = ''\n",
    "print('Joe: ',dnames['Joe'])"
   ]
  },
  {
   "cell_type": "markdown",
   "metadata": {},
   "source": [
    "When working with dictionaries, the labels are referred to as **keys** and the data that is associated with them is referred to as **values**, i.e. a dictionary contains \\< key \\>:\\< value \\> pairs."
   ]
  },
  {
   "cell_type": "code",
   "execution_count": null,
   "metadata": {},
   "outputs": [],
   "source": [
    "# get all dictionary keys --> returns a list of keys, in this case the names as strings\n",
    "keys = list(dnames.keys())\n",
    "print('keys: ',keys)\n",
    "values = list(dnames.values())\n",
    "print('values: ',values)\n",
    "key_value_pairs = list(dnames.items())\n",
    "print('key/value pairs: ',key_value_pairs)"
   ]
  },
  {
   "cell_type": "markdown",
   "metadata": {},
   "source": [
    "So far so good.  Let's take a closer look at the call to *dict.items()* above.  It returned a list (technically a dict_items object that we cast to a list).  Each entry of the list is a comma separated pair of objects within a set of parentheses.  This object is called a **tuple**."
   ]
  },
  {
   "cell_type": "code",
   "execution_count": null,
   "metadata": {},
   "outputs": [],
   "source": [
    "print(key_value_pairs[0],type(key_value_pairs[0]))"
   ]
  },
  {
   "cell_type": "markdown",
   "metadata": {},
   "source": [
    "We saw above that lists can be modified whether by changing the value of, removing, or appending an element.  Because lists have this property the are called *mutable*.  There will be times when it is more convenient, either for coding reasons or for the problem, to have an *immutable* object, i.e. an object that cannot be changed after creation.  A tuple is an immutable object that shares some similarities with a list. Let's explore tuples a bit more."
   ]
  },
  {
   "cell_type": "code",
   "execution_count": null,
   "metadata": {},
   "outputs": [],
   "source": [
    "lnames = ['Kenneth','Evan','Chaitanya','Aniruddha','Joseph','Mason','Alexander','Niko'] ## as a list\n",
    "tnames = ('Kenneth','Evan','Chaitanya','Aniruddha','Joseph','Mason','Alexander','Niko') ## as a tuple\n",
    "print('list: ',lnames)\n",
    "print('tuple: ',tnames)\n",
    "\n",
    "# we can iterate over a tuple as we would a list    \n",
    "for index,name in enumerate(tnames):\n",
    "    if index < len(tnames)-1:\n",
    "        print(name+', ',end='')\n",
    "    else:\n",
    "        print(name)\n",
    "    \n",
    "# we can access elements by index, use slicing, etc.\n",
    "print(tnames[2])\n",
    "print(tnames[1:3])\n",
    "\n",
    "# we can't change elements\n",
    "try:\n",
    "    tnames[-1] = 'Joe'\n",
    "except:\n",
    "    print('unable to change tuple element')\n",
    "    \n",
    "# or append them\n",
    "try:\n",
    "    tnames.append('Joe')\n",
    "except:\n",
    "    print('unable to append to tuple')\n",
    "\n",
    "# we can make a new tuple from two existing tuples\n",
    "tnames1 = tnames[0:4]\n",
    "tnames2 = tnames[4:]\n",
    "print(tnames1,tnames2)\n",
    "tnames3 = tnames1+tnames2\n",
    "print(tnames3)\n",
    "    \n",
    "# make list from tuple\n",
    "lnames[-1] = 'Joe'\n",
    "lnames = list(tnames)\n",
    "print(lnames)\n",
    "\n",
    "# and convert a list to a tuple\n",
    "tnames1 = tuple(lnames)\n",
    "print(tnames1)\n",
    "\n",
    "# can have a list of tuples\n",
    "fnames = [('Kenneth','Buffo'),('Evan','Fulton'),('Chaitanya','Gupta'),('Aniruddha','Joshi'),('Joseph','Natal'),('Mason','Rezac'),('Alexander','Saw'),('Niko','Stamos')]\n",
    "for f in fnames:\n",
    "    print(type(f),': ',f)\n",
    "\n",
    "# handy assignment syntax\n",
    "for index,(first,last) in enumerate(fnames):\n",
    "    if index < len(fnames)-1:\n",
    "        print(first+' '+last+', ',end='')\n",
    "    else:\n",
    "        print(first+' '+last)"
   ]
  },
  {
   "cell_type": "markdown",
   "metadata": {},
   "source": [
    "In constrast to a list, a tuple is also *hashable*.  We won't worry about the details of this now, but an important consequence is that a tuple can be used as the key of a dictionary while a list cannot.\n",
    "\n",
    "In our example above, using only first names for students is likely to run into problems.  Using first and last may still have problems, but likely less so.  Let's create a new dictionary to store grades that uses a tuple with the first and last name as key to store the grade as a value."
   ]
  },
  {
   "cell_type": "code",
   "execution_count": null,
   "metadata": {},
   "outputs": [],
   "source": [
    "gdict = dict(zip(fnames,grades))\n",
    "for key,value in gdict.items():\n",
    "    print('{} {} received a {}'.format(key[0],key[1],value))"
   ]
  }
 ],
 "metadata": {
  "kernelspec": {
   "display_name": "Python 3",
   "language": "python",
   "name": "python3"
  },
  "language_info": {
   "codemirror_mode": {
    "name": "ipython",
    "version": 3
   },
   "file_extension": ".py",
   "mimetype": "text/x-python",
   "name": "python",
   "nbconvert_exporter": "python",
   "pygments_lexer": "ipython3",
   "version": "3.7.6"
  }
 },
 "nbformat": 4,
 "nbformat_minor": 4
}
